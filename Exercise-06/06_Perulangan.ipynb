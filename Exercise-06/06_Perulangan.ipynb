{
 "cells": [
  {
   "cell_type": "markdown",
   "metadata": {},
   "source": [
    "***\n",
    "<h1 align=\"center\">Exercise 06</h1>\n",
    " \n",
    "***\n",
    "## While Loop\n",
    "## Exercise 6.1\n",
    "isilah bagian rumpang berikut. xx diganti tanggal lahir dan yy diganti menjadi bulan lahir. tandanya menyesuaikan yang lebih besar."
   ]
  },
  {
   "cell_type": "code",
   "execution_count": 1,
   "metadata": {},
   "outputs": [
    {
     "name": "stdout",
     "output_type": "stream",
     "text": [
      "You Fall, You Learn, You'll Grow Up\n",
      "You Fall, You Learn, You'll Grow Up\n",
      "You Fall, You Learn, You'll Grow Up\n",
      "You Fall, You Learn, You'll Grow Up\n",
      "You Fall, You Learn, You'll Grow Up\n",
      "You Fall, You Learn, You'll Grow Up\n",
      "You Fall, You Learn, You'll Grow Up\n",
      "You Fall, You Learn, You'll Grow Up\n",
      "You Fall, You Learn, You'll Grow Up\n",
      "You Fall, You Learn, You'll Grow Up\n",
      "You Fall, You Learn, You'll Grow Up\n",
      "You Fall, You Learn, You'll Grow Up\n",
      "You Fall, You Learn, You'll Grow Up\n",
      "You Fall, You Learn, You'll Grow Up\n",
      "You Fall, You Learn, You'll Grow Up\n",
      "You Fall, You Learn, You'll Grow Up\n",
      "You Fall, You Learn, You'll Grow Up\n",
      "You Fall, You Learn, You'll Grow Up\n",
      "You Fall, You Learn, You'll Grow Up\n",
      "You Fall, You Learn, You'll Grow Up\n",
      "You Fall, You Learn, You'll Grow Up\n",
      "You Fall, You Learn, You'll Grow Up\n",
      "You Fall, You Learn, You'll Grow Up\n",
      "You Fall, You Learn, You'll Grow Up\n",
      "You Fall, You Learn, You'll Grow Up\n",
      "You Fall, You Learn, You'll Grow Up\n",
      "You Fall, You Learn, You'll Grow Up\n",
      "You Fall, You Learn, You'll Grow Up\n"
     ]
    }
   ],
   "source": [
    "#menentukan banyak pengulangan\n",
    "n = 30\n",
    "\n",
    "#melakukan pengulangan\n",
    "i = 3\n",
    "\n",
    "while i <= n :\n",
    "    print (\"You Fall, You Learn, You'll Grow Up\")\n",
    "    #diisi motto kalian\n",
    "    i = i + 1 # sesuaikan dengan atas agar fungsi perulangan dapat berhenti\n"
   ]
  },
  {
   "cell_type": "markdown",
   "metadata": {},
   "source": [
    "## Exercise 6.2\n",
    "\n",
    "Buatlah code seperti yang dicontohkan pada modul agar user dapat menginputkan sendiri jumlah n yang diinginkan"
   ]
  },
  {
   "cell_type": "code",
   "execution_count": 11,
   "metadata": {},
   "outputs": [
    {
     "name": "stdout",
     "output_type": "stream",
     "text": [
      "6\n",
      "7\n",
      "8\n",
      "9\n",
      "10\n",
      "11\n",
      "12\n",
      "13\n",
      "14\n",
      "15\n"
     ]
    }
   ],
   "source": [
    "#Kerjakan disini\n",
    "n = int(input(\"input nilai n = \"))\n",
    "i = 6\n",
    "while i <= n:\n",
    "    print(i)\n",
    "    i = i + 1"
   ]
  },
  {
   "cell_type": "markdown",
   "metadata": {},
   "source": [
    "## Excercise 6.3\n",
    "\n",
    "isilah xx, yy, dan tanda rumpang seperti pada exercise 6.1\n"
   ]
  },
  {
   "cell_type": "code",
   "execution_count": 1,
   "metadata": {},
   "outputs": [
    {
     "name": "stdout",
     "output_type": "stream",
     "text": [
      "Baris ke-30 : Big Hero 6\n",
      "Baris ke-29 : Big Hero 6\n",
      "Baris ke-28 : Big Hero 6\n",
      "Baris ke-27 : Big Hero 6\n",
      "Baris ke-26 : Big Hero 6\n",
      "Baris ke-25 : Big Hero 6\n",
      "Baris ke-24 : Big Hero 6\n",
      "Baris ke-23 : Big Hero 6\n",
      "Baris ke-22 : Big Hero 6\n",
      "Baris ke-21 : Big Hero 6\n",
      "Baris ke-20 : Big Hero 6\n",
      "Baris ke-19 : Big Hero 6\n",
      "Baris ke-18 : Big Hero 6\n",
      "Baris ke-17 : Big Hero 6\n",
      "Baris ke-16 : Big Hero 6\n",
      "Baris ke-15 : Big Hero 6\n",
      "Baris ke-14 : Big Hero 6\n",
      "Baris ke-13 : Big Hero 6\n",
      "Baris ke-12 : Big Hero 6\n",
      "Baris ke-11 : Big Hero 6\n",
      "Baris ke-10 : Big Hero 6\n",
      "Baris ke-9 : Big Hero 6\n",
      "Baris ke-8 : Big Hero 6\n",
      "Baris ke-7 : Big Hero 6\n",
      "Baris ke-6 : Big Hero 6\n",
      "Baris ke-5 : Big Hero 6\n",
      "Baris ke-4 : Big Hero 6\n",
      "Baris ke-3 : Big Hero 6\n"
     ]
    }
   ],
   "source": [
    "#melakukan pengulangan\n",
    "i = 30\n",
    "\n",
    "while i >= 3 :\n",
    "    print (\"Baris ke-%d : Big Hero 6\"%i)\n",
    "    #isi titik-titik dengan judul film favorit kalian\n",
    "    i = i - 1 "
   ]
  },
  {
   "cell_type": "markdown",
   "metadata": {},
   "source": [
    "## FOR LOOP\n",
    "\n",
    "## Exercise 6.4\n",
    "\n",
    "munculkan 3 dari 7 elemen yang berada di dalam list1 dan list2\n"
   ]
  },
  {
   "cell_type": "code",
   "execution_count": 18,
   "metadata": {},
   "outputs": [
    {
     "name": "stdout",
     "output_type": "stream",
     "text": [
      "1 Nasi Goreng Batang\n",
      "2 Mie Ayam Yogyakarta\n",
      "3 Ayam KFC Solo\n"
     ]
    }
   ],
   "source": [
    "list1 = [\"Nasi Goreng\", \"Mie Ayam\", \"Ayam KFC\", \"Mawut\", \"Sate\", \"Ayam Asam Manis\", \"Tomyam\"] #masukkan 7 list makanan favorit kalian\n",
    "list2 = [\"Batang\", \"Yogyakarta\", \"Solo\", \"Tokyo\", \"Osaka\", \"Bandung\", \"Malang\"] #masukkan 7 list kota favorit kalian\n",
    "\n",
    "for i in range(0,3) :\n",
    "    print(i+1, list1[i] , list2[i])"
   ]
  },
  {
   "cell_type": "markdown",
   "metadata": {},
   "source": [
    "## Perulangan Bersarang\n",
    "\n",
    "## Exercise 6.5"
   ]
  },
  {
   "cell_type": "code",
   "execution_count": 29,
   "metadata": {},
   "outputs": [
    {
     "name": "stdout",
     "output_type": "stream",
     "text": [
      "900 \n",
      "870 841 \n",
      "840 812 784 \n",
      "810 783 756 729 \n",
      "780 754 728 702 676 \n",
      "750 725 700 675 650 625 \n",
      "720 696 672 648 624 600 576 \n",
      "690 667 644 621 598 575 552 529 \n",
      "660 638 616 594 572 550 528 506 484 \n",
      "630 609 588 567 546 525 504 483 462 441 \n",
      "600 580 560 540 520 500 480 460 440 420 400 \n",
      "570 551 532 513 494 475 456 437 418 399 380 361 \n",
      "540 522 504 486 468 450 432 414 396 378 360 342 324 \n",
      "510 493 476 459 442 425 408 391 374 357 340 323 306 289 \n",
      "480 464 448 432 416 400 384 368 352 336 320 304 288 272 256 \n",
      "450 435 420 405 390 375 360 345 330 315 300 285 270 255 240 225 \n",
      "420 406 392 378 364 350 336 322 308 294 280 266 252 238 224 210 196 \n",
      "390 377 364 351 338 325 312 299 286 273 260 247 234 221 208 195 182 169 \n",
      "360 348 336 324 312 300 288 276 264 252 240 228 216 204 192 180 168 156 144 \n",
      "330 319 308 297 286 275 264 253 242 231 220 209 198 187 176 165 154 143 132 121 \n",
      "300 290 280 270 260 250 240 230 220 210 200 190 180 170 160 150 140 130 120 110 100 \n",
      "270 261 252 243 234 225 216 207 198 189 180 171 162 153 144 135 126 117 108 99 90 81 \n",
      "240 232 224 216 208 200 192 184 176 168 160 152 144 136 128 120 112 104 96 88 80 72 64 \n",
      "210 203 196 189 182 175 168 161 154 147 140 133 126 119 112 105 98 91 84 77 70 63 56 49 \n",
      "180 174 168 162 156 150 144 138 132 126 120 114 108 102 96 90 84 78 72 66 60 54 48 42 36 \n",
      "150 145 140 135 130 125 120 115 110 105 100 95 90 85 80 75 70 65 60 55 50 45 40 35 30 25 \n",
      "120 116 112 108 104 100 96 92 88 84 80 76 72 68 64 60 56 52 48 44 40 36 32 28 24 20 16 \n",
      "90 87 84 81 78 75 72 69 66 63 60 57 54 51 48 45 42 39 36 33 30 27 24 21 18 15 12 9 \n"
     ]
    }
   ],
   "source": [
    "i = 30\n",
    "while i >= 3:\n",
    "    j = 30\n",
    "    while j>=i:\n",
    "        print(\"%d \" % (i*j), end = '')\n",
    "        j = j - 1\n",
    "    print()\n",
    "    i-=1"
   ]
  },
  {
   "cell_type": "markdown",
   "metadata": {},
   "source": [
    "## Pernyataan Loncat\n",
    "\n",
    "## Exercise 6.\n",
    "\n",
    "Buatlah fungsi berikut agar muncul angka hingga berhenti sesuai dengan nilai qq\n",
    "qq = angka favorit kalian\n",
    "pp>qq"
   ]
  },
  {
   "cell_type": "code",
   "execution_count": 26,
   "metadata": {},
   "outputs": [
    {
     "name": "stdout",
     "output_type": "stream",
     "text": [
      "012345678910111213141516171819202122"
     ]
    }
   ],
   "source": [
    "for i in range(30):\n",
    "    print(i,end='')\n",
    "    if i == 22:\n",
    "        break"
   ]
  },
  {
   "cell_type": "markdown",
   "metadata": {},
   "source": [
    "***\n",
    "<h1 align=\"center\">WELL DONE</h1>\n",
    " \n",
    "***"
   ]
  }
 ],
 "metadata": {
  "interpreter": {
   "hash": "cd08f94adcf3cbae37fe85286256f4c2a10455ca9094fd053e9f3d3f09647223"
  },
  "kernelspec": {
   "display_name": "Python 3.9.7 64-bit",
   "language": "python",
   "name": "python3"
  },
  "language_info": {
   "codemirror_mode": {
    "name": "ipython",
    "version": 3
   },
   "file_extension": ".py",
   "mimetype": "text/x-python",
   "name": "python",
   "nbconvert_exporter": "python",
   "pygments_lexer": "ipython3",
   "version": "3.9.6"
  },
  "orig_nbformat": 4
 },
 "nbformat": 4,
 "nbformat_minor": 2
}
